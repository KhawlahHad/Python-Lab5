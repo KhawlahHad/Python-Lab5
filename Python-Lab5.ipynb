{
 "cells": [
  {
   "cell_type": "code",
   "execution_count": 53,
   "id": "2d30ec47-4b9a-453b-ad0e-9255e88e706d",
   "metadata": {},
   "outputs": [
    {
     "name": "stdout",
     "output_type": "stream",
     "text": [
      "5 4 3 2 1\n",
      "4 3 2 1\n",
      "3 2 1\n",
      "2 1\n",
      "1\n"
     ]
    }
   ],
   "source": [
    "\n",
    "def printNumList(x):\n",
    "     \n",
    "    My_list = [*range(x, 0, -1)] \n",
    "    while(len(My_list)>0):\n",
    "        print(*My_list, sep=' ')\n",
    "        My_list.pop(0)\n",
    "\n",
    "printNumList(5)\n"
   ]
  },
  {
   "cell_type": "code",
   "execution_count": 55,
   "id": "c1ce3ff3-4663-43c3-a0ad-bf77d17382c9",
   "metadata": {},
   "outputs": [
    {
     "name": "stdout",
     "output_type": "stream",
     "text": [
      "5 4 3 2 1 \n",
      "\n",
      "4 3 2 1 \n",
      "\n",
      "3 2 1 \n",
      "\n",
      "2 1 \n",
      "\n",
      "1 \n",
      "\n"
     ]
    }
   ],
   "source": [
    "def printNum(x):\n",
    "\n",
    "    for i in range(x, 0, -1):\n",
    "        \n",
    "        for n in range(i, 0, -1):\n",
    "            print(n, end = ' ')\n",
    "        \n",
    "        print('\\n')\n",
    "\n",
    "printNum(5)"
   ]
  }
 ],
 "metadata": {
  "kernelspec": {
   "display_name": "Python 3 (ipykernel)",
   "language": "python",
   "name": "python3"
  },
  "language_info": {
   "codemirror_mode": {
    "name": "ipython",
    "version": 3
   },
   "file_extension": ".py",
   "mimetype": "text/x-python",
   "name": "python",
   "nbconvert_exporter": "python",
   "pygments_lexer": "ipython3",
   "version": "3.10.11"
  }
 },
 "nbformat": 4,
 "nbformat_minor": 5
}
